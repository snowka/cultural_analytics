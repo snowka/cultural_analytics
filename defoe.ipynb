{
 "cells": [
  {
   "cell_type": "code",
   "execution_count": null,
   "id": "0dc51fb8-12f8-44c5-b2c8-dc1310898d19",
   "metadata": {},
   "outputs": [],
   "source": [
    "Install scikit-learn library"
   ]
  },
  {
   "cell_type": "code",
   "execution_count": 1,
   "id": "0da22620-ad4a-457b-a035-785e43f040b2",
   "metadata": {},
   "outputs": [
    {
     "name": "stdout",
     "output_type": "stream",
     "text": [
      "Requirement already satisfied: sklearn in ./anaconda3/lib/python3.10/site-packages (0.0.post5)\n",
      "Note: you may need to restart the kernel to use updated packages.\n"
     ]
    }
   ],
   "source": [
    "pip install sklearn"
   ]
  },
  {
   "cell_type": "code",
   "execution_count": null,
   "id": "c6ff63ff-9735-4597-b78a-6a1987ee713b",
   "metadata": {},
   "outputs": [],
   "source": [
    "Import required modules and libraries"
   ]
  },
  {
   "cell_type": "code",
   "execution_count": 2,
   "id": "f640a095-56bd-49b2-a038-c05cc06393b7",
   "metadata": {},
   "outputs": [],
   "source": [
    "from sklearn.feature_extraction.text import TfidfVectorizer\n",
    "from sklearn.feature_extraction.text import CountVectorizer\n",
    "import pandas as pd\n",
    "from pathlib import Path  \n",
    "import glob"
   ]
  },
  {
   "cell_type": "code",
   "execution_count": null,
   "id": "6dc81068-fd09-4b3c-beaf-a0f093095cc6",
   "metadata": {},
   "outputs": [],
   "source": [
    "Tell the program where to find the texts for analysiss"
   ]
  },
  {
   "cell_type": "code",
   "execution_count": 3,
   "id": "b2138198-3a6b-42ab-aed6-8cf1bbd75064",
   "metadata": {},
   "outputs": [],
   "source": [
    "directory_path = \"/home/snowka/Documents/Projects/CulturalAnalytics/defoe/\""
   ]
  },
  {
   "cell_type": "code",
   "execution_count": null,
   "id": "d7f23793-f0be-4c33-a236-93297f7f11db",
   "metadata": {},
   "outputs": [],
   "source": [
    "Generate a list of all the filepaths in the directory and a list of all the titles of texts"
   ]
  },
  {
   "cell_type": "code",
   "execution_count": 4,
   "id": "d5e7cd64-9751-40d8-ae80-98bdd8edb5bc",
   "metadata": {},
   "outputs": [],
   "source": [
    "text_files = glob.glob(f\"{directory_path}/*.txt\")"
   ]
  },
  {
   "cell_type": "code",
   "execution_count": null,
   "id": "07976898-1724-4b65-acb2-6992efa884db",
   "metadata": {},
   "outputs": [],
   "source": [
    "Display the text files"
   ]
  },
  {
   "cell_type": "code",
   "execution_count": 7,
   "id": "7a3e2ec5-8f68-4742-9181-fd47268761a0",
   "metadata": {},
   "outputs": [
    {
     "data": {
      "text/plain": [
       "['/home/snowka/Documents/Projects/CulturalAnalytics/defoe/Crusoe.txt',\n",
       " '/home/snowka/Documents/Projects/CulturalAnalytics/defoe/moll_flanders.txt',\n",
       " '/home/snowka/Documents/Projects/CulturalAnalytics/defoe/further_adventures.txt']"
      ]
     },
     "execution_count": 7,
     "metadata": {},
     "output_type": "execute_result"
    }
   ],
   "source": [
    "text_files"
   ]
  },
  {
   "cell_type": "code",
   "execution_count": null,
   "id": "5a43b20e-ae62-422d-8cb8-23f7f287a5e7",
   "metadata": {},
   "outputs": [],
   "source": [
    "Turn file names into titles"
   ]
  },
  {
   "cell_type": "code",
   "execution_count": 18,
   "id": "985d782d-6fff-4c76-ac6d-c69ead2246ec",
   "metadata": {},
   "outputs": [],
   "source": [
    "text_titles = [Path(text).stem for text in text_files]"
   ]
  },
  {
   "cell_type": "code",
   "execution_count": 6,
   "id": "39b05ff6-8aa1-497d-91b7-65b857139752",
   "metadata": {},
   "outputs": [
    {
     "data": {
      "text/plain": [
       "['Crusoe', 'moll_flanders', 'further_adventures']"
      ]
     },
     "execution_count": 6,
     "metadata": {},
     "output_type": "execute_result"
    }
   ],
   "source": [
    "text_titles"
   ]
  },
  {
   "cell_type": "code",
   "execution_count": null,
   "id": "16b12c50-cbab-4efa-b326-def9632c7c7b",
   "metadata": {},
   "outputs": [],
   "source": [
    "Use TfidfVectorizer to calculate tf–idf scores"
   ]
  },
  {
   "cell_type": "code",
   "execution_count": 7,
   "id": "0b5c24aa-8571-4810-b9ad-3a3ef8acab84",
   "metadata": {},
   "outputs": [],
   "source": [
    "tfidf_vectorizer = TfidfVectorizer(input='filename', stop_words='english')"
   ]
  },
  {
   "cell_type": "code",
   "execution_count": 8,
   "id": "e04d19aa-4f06-4073-86a8-becce0970c6b",
   "metadata": {},
   "outputs": [],
   "source": [
    "tfidf_vector = tfidf_vectorizer.fit_transform(text_files)"
   ]
  },
  {
   "cell_type": "code",
   "execution_count": 10,
   "id": "4f5d18f0-4937-47c4-b571-6d68abde703c",
   "metadata": {},
   "outputs": [],
   "source": [
    "tfidf_df = pd.DataFrame(tfidf_vector.toarray(), index=text_titles, columns=tfidf_vectorizer.get_feature_names_out())"
   ]
  },
  {
   "cell_type": "markdown",
   "id": "e9088d1c-d992-4aef-92f2-924ded0f48fb",
   "metadata": {},
   "source": [
    "NOTE: I have updated the line above from the example provided. I replaced \".get_feature_names\" with \".get_feature_names_out\""
   ]
  },
  {
   "cell_type": "code",
   "execution_count": 11,
   "id": "230984eb-0939-410a-9f98-45439d71b9e8",
   "metadata": {},
   "outputs": [],
   "source": [
    "tfidf_df.loc['00_Document Frequency'] = (tfidf_df > 0).sum()"
   ]
  },
  {
   "cell_type": "code",
   "execution_count": 12,
   "id": "e6314248-2422-45b9-b5f3-3c7df3507a91",
   "metadata": {},
   "outputs": [
    {
     "data": {
      "text/html": [
       "<div>\n",
       "<style scoped>\n",
       "    .dataframe tbody tr th:only-of-type {\n",
       "        vertical-align: middle;\n",
       "    }\n",
       "\n",
       "    .dataframe tbody tr th {\n",
       "        vertical-align: top;\n",
       "    }\n",
       "\n",
       "    .dataframe thead th {\n",
       "        text-align: right;\n",
       "    }\n",
       "</style>\n",
       "<table border=\"1\" class=\"dataframe\">\n",
       "  <thead>\n",
       "    <tr style=\"text-align: right;\">\n",
       "      <th></th>\n",
       "      <th>woman</th>\n",
       "      <th>women</th>\n",
       "      <th>love</th>\n",
       "      <th>slave</th>\n",
       "      <th>man</th>\n",
       "      <th>men</th>\n",
       "      <th>steal</th>\n",
       "    </tr>\n",
       "  </thead>\n",
       "  <tbody>\n",
       "    <tr>\n",
       "      <th>00_Document Frequency</th>\n",
       "      <td>3.00</td>\n",
       "      <td>3.00</td>\n",
       "      <td>3.00</td>\n",
       "      <td>2.00</td>\n",
       "      <td>3.00</td>\n",
       "      <td>3.00</td>\n",
       "      <td>1.00</td>\n",
       "    </tr>\n",
       "    <tr>\n",
       "      <th>Crusoe</th>\n",
       "      <td>0.00</td>\n",
       "      <td>0.00</td>\n",
       "      <td>0.00</td>\n",
       "      <td>0.01</td>\n",
       "      <td>0.10</td>\n",
       "      <td>0.10</td>\n",
       "      <td>0.00</td>\n",
       "    </tr>\n",
       "    <tr>\n",
       "      <th>further_adventures</th>\n",
       "      <td>0.03</td>\n",
       "      <td>0.05</td>\n",
       "      <td>0.00</td>\n",
       "      <td>0.01</td>\n",
       "      <td>0.15</td>\n",
       "      <td>0.26</td>\n",
       "      <td>0.00</td>\n",
       "    </tr>\n",
       "    <tr>\n",
       "      <th>moll_flanders</th>\n",
       "      <td>0.10</td>\n",
       "      <td>0.03</td>\n",
       "      <td>0.03</td>\n",
       "      <td>0.00</td>\n",
       "      <td>0.09</td>\n",
       "      <td>0.03</td>\n",
       "      <td>0.01</td>\n",
       "    </tr>\n",
       "  </tbody>\n",
       "</table>\n",
       "</div>"
      ],
      "text/plain": [
       "                       woman  women  love  slave   man   men  steal\n",
       "00_Document Frequency   3.00   3.00  3.00   2.00  3.00  3.00   1.00\n",
       "Crusoe                  0.00   0.00  0.00   0.01  0.10  0.10   0.00\n",
       "further_adventures      0.03   0.05  0.00   0.01  0.15  0.26   0.00\n",
       "moll_flanders           0.10   0.03  0.03   0.00  0.09  0.03   0.01"
      ]
     },
     "execution_count": 12,
     "metadata": {},
     "output_type": "execute_result"
    }
   ],
   "source": [
    "tfidf_slice = tfidf_df[['woman', 'women', 'love', 'slave', 'man', 'men','steal']]\n",
    "tfidf_slice.sort_index().round(decimals=2)"
   ]
  },
  {
   "cell_type": "code",
   "execution_count": null,
   "id": "bc0c71d0-a0c7-4076-971b-bb202929cae8",
   "metadata": {},
   "outputs": [],
   "source": [
    "Remove unnecessary 00_Documentary Frequency line"
   ]
  },
  {
   "cell_type": "code",
   "execution_count": 13,
   "id": "ffdb4255-afbb-41dd-9e81-05fb8b14393a",
   "metadata": {},
   "outputs": [],
   "source": [
    "tfidf_df = tfidf_df.drop('00_Document Frequency', errors='ignore')"
   ]
  },
  {
   "cell_type": "code",
   "execution_count": null,
   "id": "5f8c2b56-ad7c-43c6-a54a-bcf3592d40de",
   "metadata": {},
   "outputs": [],
   "source": [
    "Reorganize dataFrame with words in rows rather than columns."
   ]
  },
  {
   "cell_type": "code",
   "execution_count": 14,
   "id": "88e51d37-0620-4ca3-9f38-5fbc42b24136",
   "metadata": {},
   "outputs": [
    {
     "data": {
      "text/html": [
       "<div>\n",
       "<style scoped>\n",
       "    .dataframe tbody tr th:only-of-type {\n",
       "        vertical-align: middle;\n",
       "    }\n",
       "\n",
       "    .dataframe tbody tr th {\n",
       "        vertical-align: top;\n",
       "    }\n",
       "\n",
       "    .dataframe thead th {\n",
       "        text-align: right;\n",
       "    }\n",
       "</style>\n",
       "<table border=\"1\" class=\"dataframe\">\n",
       "  <thead>\n",
       "    <tr style=\"text-align: right;\">\n",
       "      <th></th>\n",
       "      <th>level_0</th>\n",
       "      <th>level_1</th>\n",
       "      <th>0</th>\n",
       "    </tr>\n",
       "  </thead>\n",
       "  <tbody>\n",
       "    <tr>\n",
       "      <th>0</th>\n",
       "      <td>Crusoe</td>\n",
       "      <td>000</td>\n",
       "      <td>0.000000</td>\n",
       "    </tr>\n",
       "    <tr>\n",
       "      <th>1</th>\n",
       "      <td>Crusoe</td>\n",
       "      <td>0d</td>\n",
       "      <td>0.000000</td>\n",
       "    </tr>\n",
       "    <tr>\n",
       "      <th>2</th>\n",
       "      <td>Crusoe</td>\n",
       "      <td>0s</td>\n",
       "      <td>0.000000</td>\n",
       "    </tr>\n",
       "    <tr>\n",
       "      <th>3</th>\n",
       "      <td>Crusoe</td>\n",
       "      <td>10</td>\n",
       "      <td>0.003022</td>\n",
       "    </tr>\n",
       "    <tr>\n",
       "      <th>4</th>\n",
       "      <td>Crusoe</td>\n",
       "      <td>100</td>\n",
       "      <td>0.007005</td>\n",
       "    </tr>\n",
       "    <tr>\n",
       "      <th>...</th>\n",
       "      <td>...</td>\n",
       "      <td>...</td>\n",
       "      <td>...</td>\n",
       "    </tr>\n",
       "    <tr>\n",
       "      <th>32149</th>\n",
       "      <td>further_adventures</td>\n",
       "      <td>youth</td>\n",
       "      <td>0.011216</td>\n",
       "    </tr>\n",
       "    <tr>\n",
       "      <th>32150</th>\n",
       "      <td>further_adventures</td>\n",
       "      <td>zeal</td>\n",
       "      <td>0.007596</td>\n",
       "    </tr>\n",
       "    <tr>\n",
       "      <th>32151</th>\n",
       "      <td>further_adventures</td>\n",
       "      <td>zee</td>\n",
       "      <td>0.000000</td>\n",
       "    </tr>\n",
       "    <tr>\n",
       "      <th>32152</th>\n",
       "      <td>further_adventures</td>\n",
       "      <td>zenith</td>\n",
       "      <td>0.000000</td>\n",
       "    </tr>\n",
       "    <tr>\n",
       "      <th>32153</th>\n",
       "      <td>further_adventures</td>\n",
       "      <td>zip</td>\n",
       "      <td>0.000963</td>\n",
       "    </tr>\n",
       "  </tbody>\n",
       "</table>\n",
       "<p>32154 rows × 3 columns</p>\n",
       "</div>"
      ],
      "text/plain": [
       "                  level_0 level_1         0\n",
       "0                  Crusoe     000  0.000000\n",
       "1                  Crusoe      0d  0.000000\n",
       "2                  Crusoe      0s  0.000000\n",
       "3                  Crusoe      10  0.003022\n",
       "4                  Crusoe     100  0.007005\n",
       "...                   ...     ...       ...\n",
       "32149  further_adventures   youth  0.011216\n",
       "32150  further_adventures    zeal  0.007596\n",
       "32151  further_adventures     zee  0.000000\n",
       "32152  further_adventures  zenith  0.000000\n",
       "32153  further_adventures     zip  0.000963\n",
       "\n",
       "[32154 rows x 3 columns]"
      ]
     },
     "execution_count": 14,
     "metadata": {},
     "output_type": "execute_result"
    }
   ],
   "source": [
    "tfidf_df.stack().reset_index()"
   ]
  },
  {
   "cell_type": "code",
   "execution_count": 15,
   "id": "1e1d98c4-c0dc-4900-9537-c05a61ec56c8",
   "metadata": {},
   "outputs": [],
   "source": [
    "tfidf_df = tfidf_df.stack().reset_index()"
   ]
  },
  {
   "cell_type": "code",
   "execution_count": 16,
   "id": "28ac6c25-61d1-48af-b236-65a5aa0e9f0a",
   "metadata": {},
   "outputs": [],
   "source": [
    "tfidf_df = tfidf_df.rename(columns={0:'tfidf', 'level_0': 'document','level_1': 'term', 'level_2': 'term'})"
   ]
  },
  {
   "cell_type": "code",
   "execution_count": null,
   "id": "d8e36ea0-a653-4151-a5dc-4fb2d75b13d1",
   "metadata": {},
   "outputs": [],
   "source": [
    "Determine the top ten terms in each text"
   ]
  },
  {
   "cell_type": "code",
   "execution_count": 17,
   "id": "b3ce3020-26ea-457f-b2ac-9c2372ac231c",
   "metadata": {},
   "outputs": [
    {
     "data": {
      "text/html": [
       "<div>\n",
       "<style scoped>\n",
       "    .dataframe tbody tr th:only-of-type {\n",
       "        vertical-align: middle;\n",
       "    }\n",
       "\n",
       "    .dataframe tbody tr th {\n",
       "        vertical-align: top;\n",
       "    }\n",
       "\n",
       "    .dataframe thead th {\n",
       "        text-align: right;\n",
       "    }\n",
       "</style>\n",
       "<table border=\"1\" class=\"dataframe\">\n",
       "  <thead>\n",
       "    <tr style=\"text-align: right;\">\n",
       "      <th></th>\n",
       "      <th>document</th>\n",
       "      <th>term</th>\n",
       "      <th>tfidf</th>\n",
       "    </tr>\n",
       "  </thead>\n",
       "  <tbody>\n",
       "    <tr>\n",
       "      <th>4475</th>\n",
       "      <td>Crusoe</td>\n",
       "      <td>great</td>\n",
       "      <td>0.212161</td>\n",
       "    </tr>\n",
       "    <tr>\n",
       "      <th>8466</th>\n",
       "      <td>Crusoe</td>\n",
       "      <td>self</td>\n",
       "      <td>0.195236</td>\n",
       "    </tr>\n",
       "    <tr>\n",
       "      <th>9702</th>\n",
       "      <td>Crusoe</td>\n",
       "      <td>time</td>\n",
       "      <td>0.179521</td>\n",
       "    </tr>\n",
       "    <tr>\n",
       "      <th>1653</th>\n",
       "      <td>Crusoe</td>\n",
       "      <td>came</td>\n",
       "      <td>0.169850</td>\n",
       "    </tr>\n",
       "    <tr>\n",
       "      <th>5800</th>\n",
       "      <td>Crusoe</td>\n",
       "      <td>little</td>\n",
       "      <td>0.165014</td>\n",
       "    </tr>\n",
       "    <tr>\n",
       "      <th>2915</th>\n",
       "      <td>Crusoe</td>\n",
       "      <td>did</td>\n",
       "      <td>0.160179</td>\n",
       "    </tr>\n",
       "    <tr>\n",
       "      <th>1386</th>\n",
       "      <td>Crusoe</td>\n",
       "      <td>boat</td>\n",
       "      <td>0.150507</td>\n",
       "    </tr>\n",
       "    <tr>\n",
       "      <th>8594</th>\n",
       "      <td>Crusoe</td>\n",
       "      <td>ship</td>\n",
       "      <td>0.149903</td>\n",
       "    </tr>\n",
       "    <tr>\n",
       "      <th>8627</th>\n",
       "      <td>Crusoe</td>\n",
       "      <td>shore</td>\n",
       "      <td>0.143858</td>\n",
       "    </tr>\n",
       "    <tr>\n",
       "      <th>5372</th>\n",
       "      <td>Crusoe</td>\n",
       "      <td>island</td>\n",
       "      <td>0.143214</td>\n",
       "    </tr>\n",
       "    <tr>\n",
       "      <th>27544</th>\n",
       "      <td>further_adventures</td>\n",
       "      <td>men</td>\n",
       "      <td>0.261696</td>\n",
       "    </tr>\n",
       "    <tr>\n",
       "      <th>23089</th>\n",
       "      <td>further_adventures</td>\n",
       "      <td>came</td>\n",
       "      <td>0.254967</td>\n",
       "    </tr>\n",
       "    <tr>\n",
       "      <th>30030</th>\n",
       "      <td>further_adventures</td>\n",
       "      <td>ship</td>\n",
       "      <td>0.180196</td>\n",
       "    </tr>\n",
       "    <tr>\n",
       "      <th>29704</th>\n",
       "      <td>further_adventures</td>\n",
       "      <td>said</td>\n",
       "      <td>0.178701</td>\n",
       "    </tr>\n",
       "    <tr>\n",
       "      <th>25911</th>\n",
       "      <td>further_adventures</td>\n",
       "      <td>great</td>\n",
       "      <td>0.176458</td>\n",
       "    </tr>\n",
       "    <tr>\n",
       "      <th>27406</th>\n",
       "      <td>further_adventures</td>\n",
       "      <td>man</td>\n",
       "      <td>0.150288</td>\n",
       "    </tr>\n",
       "    <tr>\n",
       "      <th>31163</th>\n",
       "      <td>further_adventures</td>\n",
       "      <td>told</td>\n",
       "      <td>0.148793</td>\n",
       "    </tr>\n",
       "    <tr>\n",
       "      <th>24351</th>\n",
       "      <td>further_adventures</td>\n",
       "      <td>did</td>\n",
       "      <td>0.145802</td>\n",
       "    </tr>\n",
       "    <tr>\n",
       "      <th>27236</th>\n",
       "      <td>further_adventures</td>\n",
       "      <td>little</td>\n",
       "      <td>0.136830</td>\n",
       "    </tr>\n",
       "    <tr>\n",
       "      <th>31852</th>\n",
       "      <td>further_adventures</td>\n",
       "      <td>way</td>\n",
       "      <td>0.130100</td>\n",
       "    </tr>\n",
       "    <tr>\n",
       "      <th>20445</th>\n",
       "      <td>moll_flanders</td>\n",
       "      <td>told</td>\n",
       "      <td>0.250218</td>\n",
       "    </tr>\n",
       "    <tr>\n",
       "      <th>19050</th>\n",
       "      <td>moll_flanders</td>\n",
       "      <td>says</td>\n",
       "      <td>0.241515</td>\n",
       "    </tr>\n",
       "    <tr>\n",
       "      <th>18986</th>\n",
       "      <td>moll_flanders</td>\n",
       "      <td>said</td>\n",
       "      <td>0.239339</td>\n",
       "    </tr>\n",
       "    <tr>\n",
       "      <th>13633</th>\n",
       "      <td>moll_flanders</td>\n",
       "      <td>did</td>\n",
       "      <td>0.203982</td>\n",
       "    </tr>\n",
       "    <tr>\n",
       "      <th>12371</th>\n",
       "      <td>moll_flanders</td>\n",
       "      <td>came</td>\n",
       "      <td>0.170801</td>\n",
       "    </tr>\n",
       "    <tr>\n",
       "      <th>12826</th>\n",
       "      <td>moll_flanders</td>\n",
       "      <td>come</td>\n",
       "      <td>0.162098</td>\n",
       "    </tr>\n",
       "    <tr>\n",
       "      <th>15131</th>\n",
       "      <td>moll_flanders</td>\n",
       "      <td>good</td>\n",
       "      <td>0.159378</td>\n",
       "    </tr>\n",
       "    <tr>\n",
       "      <th>16518</th>\n",
       "      <td>moll_flanders</td>\n",
       "      <td>little</td>\n",
       "      <td>0.145779</td>\n",
       "    </tr>\n",
       "    <tr>\n",
       "      <th>20420</th>\n",
       "      <td>moll_flanders</td>\n",
       "      <td>time</td>\n",
       "      <td>0.141427</td>\n",
       "    </tr>\n",
       "    <tr>\n",
       "      <th>19047</th>\n",
       "      <td>moll_flanders</td>\n",
       "      <td>say</td>\n",
       "      <td>0.138164</td>\n",
       "    </tr>\n",
       "  </tbody>\n",
       "</table>\n",
       "</div>"
      ],
      "text/plain": [
       "                 document    term     tfidf\n",
       "4475               Crusoe   great  0.212161\n",
       "8466               Crusoe    self  0.195236\n",
       "9702               Crusoe    time  0.179521\n",
       "1653               Crusoe    came  0.169850\n",
       "5800               Crusoe  little  0.165014\n",
       "2915               Crusoe     did  0.160179\n",
       "1386               Crusoe    boat  0.150507\n",
       "8594               Crusoe    ship  0.149903\n",
       "8627               Crusoe   shore  0.143858\n",
       "5372               Crusoe  island  0.143214\n",
       "27544  further_adventures     men  0.261696\n",
       "23089  further_adventures    came  0.254967\n",
       "30030  further_adventures    ship  0.180196\n",
       "29704  further_adventures    said  0.178701\n",
       "25911  further_adventures   great  0.176458\n",
       "27406  further_adventures     man  0.150288\n",
       "31163  further_adventures    told  0.148793\n",
       "24351  further_adventures     did  0.145802\n",
       "27236  further_adventures  little  0.136830\n",
       "31852  further_adventures     way  0.130100\n",
       "20445       moll_flanders    told  0.250218\n",
       "19050       moll_flanders    says  0.241515\n",
       "18986       moll_flanders    said  0.239339\n",
       "13633       moll_flanders     did  0.203982\n",
       "12371       moll_flanders    came  0.170801\n",
       "12826       moll_flanders    come  0.162098\n",
       "15131       moll_flanders    good  0.159378\n",
       "16518       moll_flanders  little  0.145779\n",
       "20420       moll_flanders    time  0.141427\n",
       "19047       moll_flanders     say  0.138164"
      ]
     },
     "execution_count": 17,
     "metadata": {},
     "output_type": "execute_result"
    }
   ],
   "source": [
    "tfidf_df.sort_values(by=['document','tfidf'], ascending=[True,False]).groupby(['document']).head(10)"
   ]
  },
  {
   "cell_type": "code",
   "execution_count": null,
   "id": "cdea5167-e448-4fcf-9fb1-33f9a79b854a",
   "metadata": {},
   "outputs": [],
   "source": []
  }
 ],
 "metadata": {
  "kernelspec": {
   "display_name": "Python 3 (ipykernel)",
   "language": "python",
   "name": "python3"
  },
  "language_info": {
   "codemirror_mode": {
    "name": "ipython",
    "version": 3
   },
   "file_extension": ".py",
   "mimetype": "text/x-python",
   "name": "python",
   "nbconvert_exporter": "python",
   "pygments_lexer": "ipython3",
   "version": "3.10.9"
  }
 },
 "nbformat": 4,
 "nbformat_minor": 5
}
